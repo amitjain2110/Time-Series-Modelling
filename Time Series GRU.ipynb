{
 "cells": [
  {
   "cell_type": "code",
   "execution_count": 1,
   "metadata": {},
   "outputs": [],
   "source": [
    "import pandas_datareader as pdr\n",
    "import pandas as pd\n",
    "import numpy as np\n",
    "from numpy import array\n",
    "import matplotlib.pyplot as plt\n",
    "import math\n",
    "from sklearn.preprocessing import MinMaxScaler\n",
    "from sklearn.metrics import mean_squared_error\n",
    "from tensorflow.keras.models import Sequential\n",
    "from tensorflow.keras.layers import GRU,Dense, Dropout"
   ]
  },
  {
   "cell_type": "code",
   "execution_count": 2,
   "metadata": {},
   "outputs": [],
   "source": [
    "key='b7229f382db696b1193092be9f3962e64bca5125'"
   ]
  },
  {
   "cell_type": "code",
   "execution_count": 3,
   "metadata": {},
   "outputs": [],
   "source": [
    "df=pdr.get_data_tiingo('AAPL', api_key=key)"
   ]
  },
  {
   "cell_type": "code",
   "execution_count": 4,
   "metadata": {},
   "outputs": [
    {
     "data": {
      "text/html": [
       "<div>\n",
       "<style scoped>\n",
       "    .dataframe tbody tr th:only-of-type {\n",
       "        vertical-align: middle;\n",
       "    }\n",
       "\n",
       "    .dataframe tbody tr th {\n",
       "        vertical-align: top;\n",
       "    }\n",
       "\n",
       "    .dataframe thead th {\n",
       "        text-align: right;\n",
       "    }\n",
       "</style>\n",
       "<table border=\"1\" class=\"dataframe\">\n",
       "  <thead>\n",
       "    <tr style=\"text-align: right;\">\n",
       "      <th></th>\n",
       "      <th></th>\n",
       "      <th>close</th>\n",
       "      <th>high</th>\n",
       "      <th>low</th>\n",
       "      <th>open</th>\n",
       "      <th>volume</th>\n",
       "      <th>adjClose</th>\n",
       "      <th>adjHigh</th>\n",
       "      <th>adjLow</th>\n",
       "      <th>adjOpen</th>\n",
       "      <th>adjVolume</th>\n",
       "      <th>divCash</th>\n",
       "      <th>splitFactor</th>\n",
       "    </tr>\n",
       "    <tr>\n",
       "      <th>symbol</th>\n",
       "      <th>date</th>\n",
       "      <th></th>\n",
       "      <th></th>\n",
       "      <th></th>\n",
       "      <th></th>\n",
       "      <th></th>\n",
       "      <th></th>\n",
       "      <th></th>\n",
       "      <th></th>\n",
       "      <th></th>\n",
       "      <th></th>\n",
       "      <th></th>\n",
       "      <th></th>\n",
       "    </tr>\n",
       "  </thead>\n",
       "  <tbody>\n",
       "    <tr>\n",
       "      <th rowspan=\"5\" valign=\"top\">AAPL</th>\n",
       "      <th>2016-08-01 00:00:00+00:00</th>\n",
       "      <td>106.05</td>\n",
       "      <td>106.15</td>\n",
       "      <td>104.41</td>\n",
       "      <td>104.41</td>\n",
       "      <td>38167871</td>\n",
       "      <td>24.764101</td>\n",
       "      <td>24.787452</td>\n",
       "      <td>24.381139</td>\n",
       "      <td>24.381139</td>\n",
       "      <td>152671484</td>\n",
       "      <td>0.00</td>\n",
       "      <td>1.0</td>\n",
       "    </tr>\n",
       "    <tr>\n",
       "      <th>2016-08-02 00:00:00+00:00</th>\n",
       "      <td>104.48</td>\n",
       "      <td>106.07</td>\n",
       "      <td>104.00</td>\n",
       "      <td>106.05</td>\n",
       "      <td>33816556</td>\n",
       "      <td>24.397485</td>\n",
       "      <td>24.768771</td>\n",
       "      <td>24.285399</td>\n",
       "      <td>24.764101</td>\n",
       "      <td>135266224</td>\n",
       "      <td>0.00</td>\n",
       "      <td>1.0</td>\n",
       "    </tr>\n",
       "    <tr>\n",
       "      <th>2016-08-03 00:00:00+00:00</th>\n",
       "      <td>105.79</td>\n",
       "      <td>105.84</td>\n",
       "      <td>104.77</td>\n",
       "      <td>104.81</td>\n",
       "      <td>30202641</td>\n",
       "      <td>24.703388</td>\n",
       "      <td>24.715063</td>\n",
       "      <td>24.465204</td>\n",
       "      <td>24.474544</td>\n",
       "      <td>120810564</td>\n",
       "      <td>0.00</td>\n",
       "      <td>1.0</td>\n",
       "    </tr>\n",
       "    <tr>\n",
       "      <th>2016-08-04 00:00:00+00:00</th>\n",
       "      <td>105.87</td>\n",
       "      <td>106.00</td>\n",
       "      <td>105.28</td>\n",
       "      <td>105.58</td>\n",
       "      <td>27408650</td>\n",
       "      <td>24.855171</td>\n",
       "      <td>24.885692</td>\n",
       "      <td>24.716657</td>\n",
       "      <td>24.787088</td>\n",
       "      <td>109634600</td>\n",
       "      <td>0.57</td>\n",
       "      <td>1.0</td>\n",
       "    </tr>\n",
       "    <tr>\n",
       "      <th>2016-08-05 00:00:00+00:00</th>\n",
       "      <td>107.48</td>\n",
       "      <td>107.65</td>\n",
       "      <td>106.18</td>\n",
       "      <td>106.27</td>\n",
       "      <td>40553402</td>\n",
       "      <td>25.233152</td>\n",
       "      <td>25.273063</td>\n",
       "      <td>24.927950</td>\n",
       "      <td>24.949080</td>\n",
       "      <td>162213608</td>\n",
       "      <td>0.00</td>\n",
       "      <td>1.0</td>\n",
       "    </tr>\n",
       "  </tbody>\n",
       "</table>\n",
       "</div>"
      ],
      "text/plain": [
       "                                   close    high     low    open    volume  \\\n",
       "symbol date                                                                  \n",
       "AAPL   2016-08-01 00:00:00+00:00  106.05  106.15  104.41  104.41  38167871   \n",
       "       2016-08-02 00:00:00+00:00  104.48  106.07  104.00  106.05  33816556   \n",
       "       2016-08-03 00:00:00+00:00  105.79  105.84  104.77  104.81  30202641   \n",
       "       2016-08-04 00:00:00+00:00  105.87  106.00  105.28  105.58  27408650   \n",
       "       2016-08-05 00:00:00+00:00  107.48  107.65  106.18  106.27  40553402   \n",
       "\n",
       "                                   adjClose    adjHigh     adjLow    adjOpen  \\\n",
       "symbol date                                                                    \n",
       "AAPL   2016-08-01 00:00:00+00:00  24.764101  24.787452  24.381139  24.381139   \n",
       "       2016-08-02 00:00:00+00:00  24.397485  24.768771  24.285399  24.764101   \n",
       "       2016-08-03 00:00:00+00:00  24.703388  24.715063  24.465204  24.474544   \n",
       "       2016-08-04 00:00:00+00:00  24.855171  24.885692  24.716657  24.787088   \n",
       "       2016-08-05 00:00:00+00:00  25.233152  25.273063  24.927950  24.949080   \n",
       "\n",
       "                                  adjVolume  divCash  splitFactor  \n",
       "symbol date                                                        \n",
       "AAPL   2016-08-01 00:00:00+00:00  152671484     0.00          1.0  \n",
       "       2016-08-02 00:00:00+00:00  135266224     0.00          1.0  \n",
       "       2016-08-03 00:00:00+00:00  120810564     0.00          1.0  \n",
       "       2016-08-04 00:00:00+00:00  109634600     0.57          1.0  \n",
       "       2016-08-05 00:00:00+00:00  162213608     0.00          1.0  "
      ]
     },
     "execution_count": 4,
     "metadata": {},
     "output_type": "execute_result"
    }
   ],
   "source": [
    "df.head()"
   ]
  },
  {
   "cell_type": "code",
   "execution_count": 5,
   "metadata": {},
   "outputs": [],
   "source": [
    "df1=df.reset_index()['close']"
   ]
  },
  {
   "cell_type": "code",
   "execution_count": 6,
   "metadata": {},
   "outputs": [
    {
     "data": {
      "text/plain": [
       "(1258,)"
      ]
     },
     "execution_count": 6,
     "metadata": {},
     "output_type": "execute_result"
    }
   ],
   "source": [
    "df1.shape"
   ]
  },
  {
   "cell_type": "code",
   "execution_count": 7,
   "metadata": {},
   "outputs": [
    {
     "data": {
      "text/plain": [
       "[<matplotlib.lines.Line2D at 0x23323ead880>]"
      ]
     },
     "execution_count": 7,
     "metadata": {},
     "output_type": "execute_result"
    },
    {
     "data": {
      "image/png": "[encoded data removed]",
      "text/plain": [
       "<Figure size 432x288 with 1 Axes>"
      ]
     },
     "metadata": {
      "needs_background": "light"
     },
     "output_type": "display_data"
    }
   ],
   "source": [
    "plt.plot(df1)"
   ]
  },
  {
   "cell_type": "markdown",
   "metadata": {},
   "source": [
    "### Scale the data as LSTM is sensitive to Scale of data, so we r converting it to 0-1"
   ]
  },
  {
   "cell_type": "code",
   "execution_count": 8,
   "metadata": {},
   "outputs": [],
   "source": [
    "scaler=MinMaxScaler(feature_range=(0,1))\n",
    "df1=scaler.fit_transform(np.array(df1).reshape(-1,1))"
   ]
  },
  {
   "cell_type": "code",
   "execution_count": 9,
   "metadata": {},
   "outputs": [
    {
     "data": {
      "text/plain": [
       "(1258, 1)"
      ]
     },
     "execution_count": 9,
     "metadata": {},
     "output_type": "execute_result"
    }
   ],
   "source": [
    "df1.shape"
   ]
  },
  {
   "cell_type": "code",
   "execution_count": 10,
   "metadata": {},
   "outputs": [],
   "source": [
    "#Spitting the dataset into train and test\n",
    "training_size=int(len(df1)*0.75)\n",
    "test_size=len(df1)-training_size\n",
    "train_data, test_data=df1[0:training_size,:], df1[training_size:len(df1), :1]"
   ]
  },
  {
   "cell_type": "code",
   "execution_count": 11,
   "metadata": {},
   "outputs": [
    {
     "data": {
      "text/plain": [
       "(943, 315)"
      ]
     },
     "execution_count": 11,
     "metadata": {},
     "output_type": "execute_result"
    }
   ],
   "source": [
    "training_size, test_size"
   ]
  },
  {
   "cell_type": "code",
   "execution_count": 12,
   "metadata": {},
   "outputs": [
    {
     "data": {
      "text/plain": [
       "(943, 315)"
      ]
     },
     "execution_count": 12,
     "metadata": {},
     "output_type": "execute_result"
    }
   ],
   "source": [
    "len(train_data), len(test_data)"
   ]
  },
  {
   "cell_type": "code",
   "execution_count": 13,
   "metadata": {},
   "outputs": [],
   "source": [
    "def create_dataset(dataset, time_step=1):\n",
    "    datax,datay=[],[]\n",
    "    for i in range(len(dataset)-time_step-1):\n",
    "        a=dataset[i:(i+time_step),0]\n",
    "        datax.append(a)\n",
    "        datay.append(dataset[i+time_step,0])\n",
    "    return np.array(datax), np.array(datay)"
   ]
  },
  {
   "cell_type": "code",
   "execution_count": 14,
   "metadata": {},
   "outputs": [],
   "source": [
    "\n",
    "time_step=100\n",
    "x_train,y_train=create_dataset(train_data, time_step)\n",
    "x_test, y_test=create_dataset(test_data,time_step)"
   ]
  },
  {
   "cell_type": "code",
   "execution_count": 15,
   "metadata": {},
   "outputs": [
    {
     "name": "stdout",
     "output_type": "stream",
     "text": [
      "[[0.47317352 0.46143538 0.47158527 ... 0.01789259 0.00920687 0.01724737]\n",
      " [0.46143538 0.47158527 0.48250447 ... 0.00920687 0.01724737 0.0215406 ]\n",
      " [0.47158527 0.48250447 0.49012309 ... 0.01724737 0.0215406  0.00990173]\n",
      " ...\n",
      " [0.04697737 0.04218781 0.04538912 ... 0.10489875 0.10837304 0.11274072]\n",
      " [0.04218781 0.04538912 0.03283204 ... 0.10837304 0.11274072 0.11380782]\n",
      " [0.04538912 0.03283204 0.04455777 ... 0.11274072 0.11380782 0.10829859]]\n"
     ]
    }
   ],
   "source": [
    "print(x_test)"
   ]
  },
  {
   "cell_type": "code",
   "execution_count": 16,
   "metadata": {},
   "outputs": [
    {
     "name": "stdout",
     "output_type": "stream",
     "text": [
      "[0.0215406  0.00990173 0.01263153 0.02270697 0.02935775 0.02719873\n",
      " 0.03146714 0.03389915 0.02454338 0.03317947 0.02489081 0.02965555\n",
      " 0.02938257 0.03434584 0.0527844  0.044595   0.04481834 0.04362716\n",
      " 0.03943319 0.03188902 0.03568592 0.03409768 0.03131824 0.02955628\n",
      " 0.0295811  0.03342764 0.0200268  0.03025114 0.01421977 0.01399643\n",
      " 0.01814076 0.02933294 0.03945801 0.03861425 0.03273278 0.0318642\n",
      " 0.04059956 0.03990471 0.04002879 0.04260969 0.0403514  0.03697637\n",
      " 0.03849017 0.03526405 0.02660314 0.0298789  0.0320131  0.03340282\n",
      " 0.03950764 0.04861525 0.04950864 0.04916121 0.04744888 0.05117133\n",
      " 0.05273476 0.04628251 0.0499057  0.04784594 0.04628251 0.06142049\n",
      " 0.06124677 0.06345543 0.05838048 0.06228906 0.07134703 0.06906393\n",
      " 0.07157038 0.0832837  0.07876712 0.07591324 0.07335716 0.06521739\n",
      " 0.06918801 0.05824399 0.06896466 0.07176891 0.06415029 0.06370359\n",
      " 0.06889021 0.06397657 0.05958408 0.06129641 0.07171928 0.0837304\n",
      " 0.08918999 0.09874429 0.09933988 0.09661009 0.08427635 0.07154556\n",
      " 0.07695553 0.07906492 0.0764592  0.08502085 0.08345742 0.08382966\n",
      " 0.08159619 0.08005757 0.07941235 0.08000794 0.07459797 0.06876613\n",
      " 0.06596188 0.06635894 0.05675501 0.05640758 0.05514195 0.04432202\n",
      " 0.04499206 0.06119714 0.05457117 0.04697737 0.04218781 0.04538912\n",
      " 0.03283204 0.04455777 0.04181556 0.0467292  0.04442128 0.05176692\n",
      " 0.05568791 0.05367778 0.04318046 0.04184038 0.05027794 0.04816855\n",
      " 0.04208854 0.04332936 0.04486798 0.04531467 0.04161703 0.04720071\n",
      " 0.04931011 0.05650685 0.05727616 0.06147012 0.06757495 0.07411406\n",
      " 0.06975878 0.0776752  0.07171928 0.07784892 0.07700516 0.07869267\n",
      " 0.07439944 0.07536728 0.07149593 0.07740222 0.07839488 0.07757594\n",
      " 0.07556581 0.07531765 0.07030474 0.07298491 0.06134604 0.06196645\n",
      " 0.06603633 0.0672027  0.0588644  0.05653167 0.04873933 0.05419893\n",
      " 0.06035338 0.05742505 0.05390113 0.05350407 0.06000596 0.05534048\n",
      " 0.05948481 0.05898849 0.0588644  0.05496824 0.05330554 0.0524866\n",
      " 0.05442228 0.05065019 0.05648203 0.05650685 0.05859142 0.05955926\n",
      " 0.05702799 0.06010522 0.06787274 0.06578817 0.0670538  0.07112368\n",
      " 0.06782311 0.07238932 0.07655847 0.07586361 0.07514393 0.07439944\n",
      " 0.07854378 0.08239031 0.08395374 0.08472305 0.09139865 0.09651082\n",
      " 0.10283899 0.09953842 0.10417907 0.10266528 0.10549434 0.11420488\n",
      " 0.11254219 0.10735557 0.09757792 0.10675998 0.10489875 0.10837304\n",
      " 0.11274072 0.11380782 0.10829859 0.10385646]\n"
     ]
    }
   ],
   "source": [
    "print(y_test)"
   ]
  },
  {
   "cell_type": "code",
   "execution_count": 17,
   "metadata": {},
   "outputs": [
    {
     "name": "stdout",
     "output_type": "stream",
     "text": [
      "(842, 100)\n",
      "(842,)\n"
     ]
    },
    {
     "data": {
      "text/plain": [
       "(None, None)"
      ]
     },
     "execution_count": 17,
     "metadata": {},
     "output_type": "execute_result"
    }
   ],
   "source": [
    "print(x_train.shape), print(y_train.shape)"
   ]
  },
  {
   "cell_type": "code",
   "execution_count": 18,
   "metadata": {},
   "outputs": [
    {
     "name": "stdout",
     "output_type": "stream",
     "text": [
      "(214, 100)\n",
      "(214,)\n"
     ]
    },
    {
     "data": {
      "text/plain": [
       "(None, None)"
      ]
     },
     "execution_count": 18,
     "metadata": {},
     "output_type": "execute_result"
    }
   ],
   "source": [
    "print(x_test.shape), print(y_test.shape)"
   ]
  },
  {
   "cell_type": "code",
   "execution_count": 19,
   "metadata": {},
   "outputs": [],
   "source": [
    "#reshape the data to 3d(samples, time steps, features) which is needed for LSTM\n",
    "x_train=x_train.reshape(x_train.shape[0],x_train.shape[1],1)\n",
    "x_test=x_test.reshape(x_test.shape[0],x_test.shape[1],1)"
   ]
  },
  {
   "cell_type": "markdown",
   "metadata": {},
   "source": [
    "# Creating Stacked GRU"
   ]
  },
  {
   "cell_type": "code",
   "execution_count": null,
   "metadata": {},
   "outputs": [],
   "source": []
  },
  {
   "cell_type": "code",
   "execution_count": 20,
   "metadata": {},
   "outputs": [],
   "source": [
    "model=Sequential()\n",
    "model.add(GRU(50,return_sequences=True, input_shape=(100,1)))\n",
    "model.add(Dropout(0.3))\n",
    "model.add(GRU(50,return_sequences=True))\n",
    "model.add(Dropout(0.3))\n",
    "model.add(GRU(50))\n",
    "model.add(Dropout(0.3))\n",
    "model.add(Dense(1))\n",
    "model.compile(loss='mean_squared_error', optimizer='adam')"
   ]
  },
  {
   "cell_type": "code",
   "execution_count": 21,
   "metadata": {},
   "outputs": [
    {
     "name": "stdout",
     "output_type": "stream",
     "text": [
      "Model: \"sequential\"\n",
      "_________________________________________________________________\n",
      "Layer (type)                 Output Shape              Param #   \n",
      "=================================================================\n",
      "gru (GRU)                    (None, 100, 50)           7950      \n",
      "_________________________________________________________________\n",
      "dropout (Dropout)            (None, 100, 50)           0         \n",
      "_________________________________________________________________\n",
      "gru_1 (GRU)                  (None, 100, 50)           15300     \n",
      "_________________________________________________________________\n",
      "dropout_1 (Dropout)          (None, 100, 50)           0         \n",
      "_________________________________________________________________\n",
      "gru_2 (GRU)                  (None, 50)                15300     \n",
      "_________________________________________________________________\n",
      "dropout_2 (Dropout)          (None, 50)                0         \n",
      "_________________________________________________________________\n",
      "dense (Dense)                (None, 1)                 51        \n",
      "=================================================================\n",
      "Total params: 38,601\n",
      "Trainable params: 38,601\n",
      "Non-trainable params: 0\n",
      "_________________________________________________________________\n"
     ]
    }
   ],
   "source": [
    "model.summary()"
   ]
  },
  {
   "cell_type": "code",
   "execution_count": 22,
   "metadata": {},
   "outputs": [
    {
     "name": "stdout",
     "output_type": "stream",
     "text": [
      "Epoch 1/100\n",
      "14/14 [==============================] - 3s 246ms/step - loss: 0.0132 - val_loss: 0.0016\n",
      "Epoch 2/100\n",
      "14/14 [==============================] - 2s 150ms/step - loss: 0.0037 - val_loss: 0.0019\n",
      "Epoch 3/100\n",
      "14/14 [==============================] - 2s 139ms/step - loss: 0.0019 - val_loss: 9.4048e-05\n",
      "Epoch 4/100\n",
      "14/14 [==============================] - 2s 138ms/step - loss: 0.0019 - val_loss: 1.0332e-04\n",
      "Epoch 5/100\n",
      "14/14 [==============================] - 2s 142ms/step - loss: 0.0015 - val_loss: 2.0691e-04\n",
      "Epoch 6/100\n",
      "14/14 [==============================] - 2s 137ms/step - loss: 0.0015 - val_loss: 8.6124e-05\n",
      "Epoch 7/100\n",
      "14/14 [==============================] - 2s 137ms/step - loss: 0.0013 - val_loss: 8.9603e-05\n",
      "Epoch 8/100\n",
      "14/14 [==============================] - 2s 136ms/step - loss: 0.0012 - val_loss: 1.7736e-04\n",
      "Epoch 9/100\n",
      "14/14 [==============================] - 2s 137ms/step - loss: 0.0013 - val_loss: 1.0582e-04\n",
      "Epoch 10/100\n",
      "14/14 [==============================] - 2s 137ms/step - loss: 0.0015 - val_loss: 2.2648e-04\n",
      "Epoch 11/100\n",
      "14/14 [==============================] - 2s 138ms/step - loss: 0.0014 - val_loss: 1.1879e-04\n",
      "Epoch 12/100\n",
      "14/14 [==============================] - 2s 139ms/step - loss: 0.0013 - val_loss: 8.2799e-05\n",
      "Epoch 13/100\n",
      "14/14 [==============================] - 2s 138ms/step - loss: 0.0014 - val_loss: 1.3601e-04\n",
      "Epoch 14/100\n",
      "14/14 [==============================] - 2s 138ms/step - loss: 0.0012 - val_loss: 1.2886e-04\n",
      "Epoch 15/100\n",
      "14/14 [==============================] - 2s 140ms/step - loss: 9.7332e-04 - val_loss: 9.3094e-05\n",
      "Epoch 16/100\n",
      "14/14 [==============================] - 2s 144ms/step - loss: 9.5166e-04 - val_loss: 1.0521e-04\n",
      "Epoch 17/100\n",
      "14/14 [==============================] - 2s 138ms/step - loss: 9.5809e-04 - val_loss: 1.0270e-04\n",
      "Epoch 18/100\n",
      "14/14 [==============================] - 2s 141ms/step - loss: 0.0011 - val_loss: 8.0206e-05\n",
      "Epoch 19/100\n",
      "14/14 [==============================] - 2s 141ms/step - loss: 0.0011 - val_loss: 1.0886e-04\n",
      "Epoch 20/100\n",
      "14/14 [==============================] - 2s 141ms/step - loss: 9.3317e-04 - val_loss: 1.2068e-04\n",
      "Epoch 21/100\n",
      "14/14 [==============================] - 2s 142ms/step - loss: 0.0010 - val_loss: 9.0346e-05\n",
      "Epoch 22/100\n",
      "14/14 [==============================] - 2s 141ms/step - loss: 9.5849e-04 - val_loss: 9.2773e-05\n",
      "Epoch 23/100\n",
      "14/14 [==============================] - 2s 145ms/step - loss: 8.6611e-04 - val_loss: 7.6186e-05\n",
      "Epoch 24/100\n",
      "14/14 [==============================] - 2s 143ms/step - loss: 8.0869e-04 - val_loss: 7.4708e-05\n",
      "Epoch 25/100\n",
      "14/14 [==============================] - 2s 143ms/step - loss: 8.6895e-04 - val_loss: 1.0515e-04\n",
      "Epoch 26/100\n",
      "14/14 [==============================] - 2s 142ms/step - loss: 7.9166e-04 - val_loss: 9.1034e-05\n",
      "Epoch 27/100\n",
      "14/14 [==============================] - 2s 142ms/step - loss: 8.2073e-04 - val_loss: 2.6100e-04\n",
      "Epoch 28/100\n",
      "14/14 [==============================] - 2s 142ms/step - loss: 8.3925e-04 - val_loss: 7.5107e-05\n",
      "Epoch 29/100\n",
      "14/14 [==============================] - 2s 142ms/step - loss: 8.2521e-04 - val_loss: 7.7052e-05\n",
      "Epoch 30/100\n",
      "14/14 [==============================] - 2s 141ms/step - loss: 7.4436e-04 - val_loss: 1.2575e-04\n",
      "Epoch 31/100\n",
      "14/14 [==============================] - 2s 144ms/step - loss: 8.0298e-04 - val_loss: 2.5769e-04\n",
      "Epoch 32/100\n",
      "14/14 [==============================] - 2s 142ms/step - loss: 8.7763e-04 - val_loss: 8.6691e-05\n",
      "Epoch 33/100\n",
      "14/14 [==============================] - 2s 142ms/step - loss: 8.4193e-04 - val_loss: 8.2708e-05\n",
      "Epoch 34/100\n",
      "14/14 [==============================] - 2s 141ms/step - loss: 7.4066e-04 - val_loss: 9.1011e-05\n",
      "Epoch 35/100\n",
      "14/14 [==============================] - 2s 142ms/step - loss: 9.1839e-04 - val_loss: 2.0983e-04\n",
      "Epoch 36/100\n",
      "14/14 [==============================] - 2s 142ms/step - loss: 7.9213e-04 - val_loss: 1.4518e-04\n",
      "Epoch 37/100\n",
      "14/14 [==============================] - 2s 141ms/step - loss: 7.9958e-04 - val_loss: 9.4288e-05\n",
      "Epoch 38/100\n",
      "14/14 [==============================] - 2s 143ms/step - loss: 8.9814e-04 - val_loss: 9.2865e-05\n",
      "Epoch 39/100\n",
      "14/14 [==============================] - 2s 143ms/step - loss: 7.1647e-04 - val_loss: 1.4954e-04\n",
      "Epoch 40/100\n",
      "14/14 [==============================] - 2s 142ms/step - loss: 8.1259e-04 - val_loss: 9.2012e-05\n",
      "Epoch 41/100\n",
      "14/14 [==============================] - 2s 143ms/step - loss: 8.9050e-04 - val_loss: 2.4518e-04\n",
      "Epoch 42/100\n",
      "14/14 [==============================] - 2s 142ms/step - loss: 7.4650e-04 - val_loss: 1.1339e-04\n",
      "Epoch 43/100\n",
      "14/14 [==============================] - 2s 142ms/step - loss: 7.1474e-04 - val_loss: 1.0745e-04\n",
      "Epoch 44/100\n",
      "14/14 [==============================] - 2s 141ms/step - loss: 6.5353e-04 - val_loss: 6.8549e-05\n",
      "Epoch 45/100\n",
      "14/14 [==============================] - 2s 142ms/step - loss: 5.5123e-04 - val_loss: 8.5023e-05\n",
      "Epoch 46/100\n",
      "14/14 [==============================] - 2s 142ms/step - loss: 7.2856e-04 - val_loss: 6.4503e-05\n",
      "Epoch 47/100\n",
      "14/14 [==============================] - 2s 143ms/step - loss: 6.7093e-04 - val_loss: 1.3951e-04\n",
      "Epoch 48/100\n",
      "14/14 [==============================] - 2s 143ms/step - loss: 6.5305e-04 - val_loss: 1.0016e-04\n",
      "Epoch 49/100\n",
      "14/14 [==============================] - 2s 142ms/step - loss: 6.6722e-04 - val_loss: 6.6986e-05\n",
      "Epoch 50/100\n",
      "14/14 [==============================] - 2s 149ms/step - loss: 5.8580e-04 - val_loss: 6.2857e-05\n",
      "Epoch 51/100\n",
      "14/14 [==============================] - 2s 153ms/step - loss: 6.8605e-04 - val_loss: 7.7032e-05\n",
      "Epoch 52/100\n",
      "14/14 [==============================] - 2s 144ms/step - loss: 6.9546e-04 - val_loss: 1.1612e-04\n",
      "Epoch 53/100\n",
      "14/14 [==============================] - 2s 143ms/step - loss: 6.4998e-04 - val_loss: 8.5906e-05\n",
      "Epoch 54/100\n",
      "14/14 [==============================] - 2s 140ms/step - loss: 6.9459e-04 - val_loss: 2.1601e-04\n",
      "Epoch 55/100\n",
      "14/14 [==============================] - 2s 140ms/step - loss: 6.7695e-04 - val_loss: 6.0712e-05\n",
      "Epoch 56/100\n",
      "14/14 [==============================] - 2s 146ms/step - loss: 6.3401e-04 - val_loss: 6.0612e-05\n",
      "Epoch 57/100\n",
      "14/14 [==============================] - 2s 142ms/step - loss: 6.0843e-04 - val_loss: 6.7303e-05\n",
      "Epoch 58/100\n",
      "14/14 [==============================] - 2s 142ms/step - loss: 6.1304e-04 - val_loss: 1.1607e-04\n",
      "Epoch 59/100\n",
      "14/14 [==============================] - 2s 142ms/step - loss: 6.8476e-04 - val_loss: 6.0302e-05\n",
      "Epoch 60/100\n",
      "14/14 [==============================] - 2s 141ms/step - loss: 6.5264e-04 - val_loss: 6.4538e-05\n",
      "Epoch 61/100\n",
      "14/14 [==============================] - 2s 142ms/step - loss: 0.0011 - val_loss: 7.7095e-05\n",
      "Epoch 62/100\n",
      "14/14 [==============================] - 2s 143ms/step - loss: 6.6847e-04 - val_loss: 9.0919e-05\n",
      "Epoch 63/100\n",
      "14/14 [==============================] - 2s 141ms/step - loss: 6.4038e-04 - val_loss: 1.3735e-04\n",
      "Epoch 64/100\n",
      "14/14 [==============================] - 2s 140ms/step - loss: 5.7480e-04 - val_loss: 5.7264e-05\n",
      "Epoch 65/100\n",
      "14/14 [==============================] - 2s 140ms/step - loss: 4.6475e-04 - val_loss: 6.4920e-05\n",
      "Epoch 66/100\n",
      "14/14 [==============================] - 2s 140ms/step - loss: 5.1276e-04 - val_loss: 9.4329e-05\n",
      "Epoch 67/100\n",
      "14/14 [==============================] - 2s 142ms/step - loss: 5.5828e-04 - val_loss: 9.6243e-05\n",
      "Epoch 68/100\n",
      "14/14 [==============================] - 2s 141ms/step - loss: 4.7945e-04 - val_loss: 5.6920e-05\n",
      "Epoch 69/100\n",
      "14/14 [==============================] - 2s 142ms/step - loss: 5.7760e-04 - val_loss: 8.7573e-05\n",
      "Epoch 70/100\n",
      "14/14 [==============================] - 2s 140ms/step - loss: 5.0388e-04 - val_loss: 1.0133e-04\n",
      "Epoch 71/100\n",
      "14/14 [==============================] - 2s 140ms/step - loss: 5.3059e-04 - val_loss: 6.1058e-05\n",
      "Epoch 72/100\n",
      "14/14 [==============================] - 2s 139ms/step - loss: 5.9280e-04 - val_loss: 6.1760e-05\n",
      "Epoch 73/100\n",
      "14/14 [==============================] - 2s 140ms/step - loss: 5.5996e-04 - val_loss: 1.1806e-04\n",
      "Epoch 74/100\n",
      "14/14 [==============================] - 2s 140ms/step - loss: 5.1260e-04 - val_loss: 5.4598e-05\n",
      "Epoch 75/100\n",
      "14/14 [==============================] - 2s 142ms/step - loss: 4.4707e-04 - val_loss: 6.0752e-05\n",
      "Epoch 76/100\n"
     ]
    },
    {
     "name": "stdout",
     "output_type": "stream",
     "text": [
      "14/14 [==============================] - 2s 141ms/step - loss: 4.9930e-04 - val_loss: 8.3385e-05\n",
      "Epoch 77/100\n",
      "14/14 [==============================] - 2s 140ms/step - loss: 5.2448e-04 - val_loss: 6.2727e-05\n",
      "Epoch 78/100\n",
      "14/14 [==============================] - 2s 140ms/step - loss: 4.4990e-04 - val_loss: 6.6258e-05\n",
      "Epoch 79/100\n",
      "14/14 [==============================] - 2s 149ms/step - loss: 5.9572e-04 - val_loss: 8.5261e-05\n",
      "Epoch 80/100\n",
      "14/14 [==============================] - 2s 141ms/step - loss: 4.4951e-04 - val_loss: 7.2366e-05\n",
      "Epoch 81/100\n",
      "14/14 [==============================] - 2s 140ms/step - loss: 5.6036e-04 - val_loss: 5.3747e-05\n",
      "Epoch 82/100\n",
      "14/14 [==============================] - 2s 141ms/step - loss: 5.1190e-04 - val_loss: 1.3302e-04\n",
      "Epoch 83/100\n",
      "14/14 [==============================] - 2s 141ms/step - loss: 5.1357e-04 - val_loss: 6.7453e-05\n",
      "Epoch 84/100\n",
      "14/14 [==============================] - 2s 140ms/step - loss: 4.6819e-04 - val_loss: 9.3421e-05\n",
      "Epoch 85/100\n",
      "14/14 [==============================] - 2s 140ms/step - loss: 4.8878e-04 - val_loss: 5.7190e-05\n",
      "Epoch 86/100\n",
      "14/14 [==============================] - 2s 141ms/step - loss: 4.6016e-04 - val_loss: 7.2607e-05\n",
      "Epoch 87/100\n",
      "14/14 [==============================] - 2s 143ms/step - loss: 5.2710e-04 - val_loss: 5.9481e-05\n",
      "Epoch 88/100\n",
      "14/14 [==============================] - 2s 141ms/step - loss: 5.7613e-04 - val_loss: 1.9204e-04\n",
      "Epoch 89/100\n",
      "14/14 [==============================] - 2s 140ms/step - loss: 7.1333e-04 - val_loss: 1.1228e-04\n",
      "Epoch 90/100\n",
      "14/14 [==============================] - 2s 141ms/step - loss: 5.8904e-04 - val_loss: 5.2379e-05\n",
      "Epoch 91/100\n",
      "14/14 [==============================] - 2s 141ms/step - loss: 4.7706e-04 - val_loss: 6.1876e-05\n",
      "Epoch 92/100\n",
      "14/14 [==============================] - 2s 147ms/step - loss: 4.3688e-04 - val_loss: 6.1457e-05\n",
      "Epoch 93/100\n",
      "14/14 [==============================] - 2s 149ms/step - loss: 5.1865e-04 - val_loss: 5.1724e-05\n",
      "Epoch 94/100\n",
      "14/14 [==============================] - 2s 140ms/step - loss: 4.2505e-04 - val_loss: 5.7692e-05\n",
      "Epoch 95/100\n",
      "14/14 [==============================] - 2s 142ms/step - loss: 4.8807e-04 - val_loss: 5.0657e-05\n",
      "Epoch 96/100\n",
      "14/14 [==============================] - 2s 141ms/step - loss: 5.2101e-04 - val_loss: 1.7598e-04\n",
      "Epoch 97/100\n",
      "14/14 [==============================] - 2s 140ms/step - loss: 5.7386e-04 - val_loss: 7.7770e-05\n",
      "Epoch 98/100\n",
      "14/14 [==============================] - 2s 140ms/step - loss: 4.3433e-04 - val_loss: 5.0761e-05\n",
      "Epoch 99/100\n",
      "14/14 [==============================] - 2s 143ms/step - loss: 4.6643e-04 - val_loss: 5.2540e-05\n",
      "Epoch 100/100\n",
      "14/14 [==============================] - 2s 140ms/step - loss: 5.3211e-04 - val_loss: 2.6060e-04\n"
     ]
    },
    {
     "data": {
      "text/plain": [
       "<tensorflow.python.keras.callbacks.History at 0x2332d9a83d0>"
      ]
     },
     "execution_count": 22,
     "metadata": {},
     "output_type": "execute_result"
    }
   ],
   "source": [
    "model.fit(x_train,y_train, validation_data=(x_test,y_test), epochs=100, batch_size=64, verbose=1)"
   ]
  },
  {
   "cell_type": "markdown",
   "metadata": {},
   "source": [
    "## Check Prediction and performance"
   ]
  },
  {
   "cell_type": "code",
   "execution_count": 23,
   "metadata": {},
   "outputs": [],
   "source": [
    "train_predict=model.predict(x_train)\n",
    "test_predict=model.predict(x_test)"
   ]
  },
  {
   "cell_type": "code",
   "execution_count": 24,
   "metadata": {},
   "outputs": [],
   "source": [
    "#Transforming back to the original form\n",
    "train_predict=scaler.inverse_transform(train_predict)\n",
    "test_predict=scaler.inverse_transform(test_predict)"
   ]
  },
  {
   "cell_type": "code",
   "execution_count": 25,
   "metadata": {},
   "outputs": [
    {
     "data": {
      "text/plain": [
       "194.6628556285275"
      ]
     },
     "execution_count": 25,
     "metadata": {},
     "output_type": "execute_result"
    }
   ],
   "source": [
    "#Calculation of RMSE\n",
    "math.sqrt(mean_squared_error(y_train, train_predict))"
   ]
  },
  {
   "cell_type": "code",
   "execution_count": 26,
   "metadata": {},
   "outputs": [
    {
     "data": {
      "text/plain": [
       "133.2473782743951"
      ]
     },
     "execution_count": 26,
     "metadata": {},
     "output_type": "execute_result"
    }
   ],
   "source": [
    "#Test Data RMSE\n",
    "math.sqrt(mean_squared_error(y_test, test_predict))"
   ]
  },
  {
   "cell_type": "markdown",
   "metadata": {},
   "source": [
    "## Plotting"
   ]
  },
  {
   "cell_type": "code",
   "execution_count": 27,
   "metadata": {},
   "outputs": [
    {
     "data": {
      "image/png": "[encoded data removed]",
      "text/plain": [
       "<Figure size 432x288 with 1 Axes>"
      ]
     },
     "metadata": {
      "needs_background": "light"
     },
     "output_type": "display_data"
    }
   ],
   "source": [
    "look_back=100\n",
    "trainPredictPlot= np.empty_like(df1)\n",
    "trainPredictPlot[:, :]= np.nan\n",
    "trainPredictPlot[look_back:len(train_predict)+ look_back, :]= train_predict\n",
    "\n",
    "testPredictPlot= np.empty_like(df1)\n",
    "testPredictPlot[:, :]=np.nan\n",
    "testPredictPlot[len(train_predict)+(look_back*2) + 1:len(df1) -1, :]=test_predict\n",
    "\n",
    "plt.plot(scaler.inverse_transform(df1))\n",
    "plt.plot(trainPredictPlot)\n",
    "plt.plot(testPredictPlot)\n",
    "plt.show()\n",
    "                "
   ]
  },
  {
   "cell_type": "markdown",
   "metadata": {},
   "source": [
    "## Forecasting"
   ]
  },
  {
   "cell_type": "code",
   "execution_count": 28,
   "metadata": {},
   "outputs": [
    {
     "data": {
      "text/plain": [
       "315"
      ]
     },
     "execution_count": 28,
     "metadata": {},
     "output_type": "execute_result"
    }
   ],
   "source": [
    "len(test_data)"
   ]
  },
  {
   "cell_type": "code",
   "execution_count": 29,
   "metadata": {},
   "outputs": [
    {
     "data": {
      "text/plain": [
       "(1, 100)"
      ]
     },
     "execution_count": 29,
     "metadata": {},
     "output_type": "execute_result"
    }
   ],
   "source": [
    "x_input= test_data[215:].reshape(1,-1)\n",
    "x_input.shape"
   ]
  },
  {
   "cell_type": "markdown",
   "metadata": {},
   "source": [
    "### Converting it to a list"
   ]
  },
  {
   "cell_type": "code",
   "execution_count": 30,
   "metadata": {},
   "outputs": [],
   "source": [
    "temp_input= list(x_input)\n",
    "temp_input= temp_input[0].tolist()"
   ]
  },
  {
   "cell_type": "markdown",
   "metadata": {},
   "source": [
    "Prediction for next 30 days"
   ]
  },
  {
   "cell_type": "code",
   "execution_count": 31,
   "metadata": {},
   "outputs": [
    {
     "name": "stdout",
     "output_type": "stream",
     "text": [
      "[0.11686219]\n",
      "101\n",
      "1 day input [0.04181556 0.0467292  0.04442128 0.05176692 0.05568791 0.05367778\n",
      " 0.04318046 0.04184038 0.05027794 0.04816855 0.04208854 0.04332936\n",
      " 0.04486798 0.04531467 0.04161703 0.04720071 0.04931011 0.05650685\n",
      " 0.05727616 0.06147012 0.06757495 0.07411406 0.06975878 0.0776752\n",
      " 0.07171928 0.07784892 0.07700516 0.07869267 0.07439944 0.07536728\n",
      " 0.07149593 0.07740222 0.07839488 0.07757594 0.07556581 0.07531765\n",
      " 0.07030474 0.07298491 0.06134604 0.06196645 0.06603633 0.0672027\n",
      " 0.0588644  0.05653167 0.04873933 0.05419893 0.06035338 0.05742505\n",
      " 0.05390113 0.05350407 0.06000596 0.05534048 0.05948481 0.05898849\n",
      " 0.0588644  0.05496824 0.05330554 0.0524866  0.05442228 0.05065019\n",
      " 0.05648203 0.05650685 0.05859142 0.05955926 0.05702799 0.06010522\n",
      " 0.06787274 0.06578817 0.0670538  0.07112368 0.06782311 0.07238932\n",
      " 0.07655847 0.07586361 0.07514393 0.07439944 0.07854378 0.08239031\n",
      " 0.08395374 0.08472305 0.09139865 0.09651082 0.10283899 0.09953842\n",
      " 0.10417907 0.10266528 0.10549434 0.11420488 0.11254219 0.10735557\n",
      " 0.09757792 0.10675998 0.10489875 0.10837304 0.11274072 0.11380782\n",
      " 0.10829859 0.10385646 0.10549434 0.11686219]\n",
      "1 day output [[0.11901782]]\n",
      "2 day input [0.0467292  0.04442128 0.05176692 0.05568791 0.05367778 0.04318046\n",
      " 0.04184038 0.05027794 0.04816855 0.04208854 0.04332936 0.04486798\n",
      " 0.04531467 0.04161703 0.04720071 0.04931011 0.05650685 0.05727616\n",
      " 0.06147012 0.06757495 0.07411406 0.06975878 0.0776752  0.07171928\n",
      " 0.07784892 0.07700516 0.07869267 0.07439944 0.07536728 0.07149593\n",
      " 0.07740222 0.07839488 0.07757594 0.07556581 0.07531765 0.07030474\n",
      " 0.07298491 0.06134604 0.06196645 0.06603633 0.0672027  0.0588644\n",
      " 0.05653167 0.04873933 0.05419893 0.06035338 0.05742505 0.05390113\n",
      " 0.05350407 0.06000596 0.05534048 0.05948481 0.05898849 0.0588644\n",
      " 0.05496824 0.05330554 0.0524866  0.05442228 0.05065019 0.05648203\n",
      " 0.05650685 0.05859142 0.05955926 0.05702799 0.06010522 0.06787274\n",
      " 0.06578817 0.0670538  0.07112368 0.06782311 0.07238932 0.07655847\n",
      " 0.07586361 0.07514393 0.07439944 0.07854378 0.08239031 0.08395374\n",
      " 0.08472305 0.09139865 0.09651082 0.10283899 0.09953842 0.10417907\n",
      " 0.10266528 0.10549434 0.11420488 0.11254219 0.10735557 0.09757792\n",
      " 0.10675998 0.10489875 0.10837304 0.11274072 0.11380782 0.10829859\n",
      " 0.10385646 0.10549434 0.11686219 0.11901782]\n",
      "2 day output [[0.12253635]]\n",
      "3 day input [0.04442128 0.05176692 0.05568791 0.05367778 0.04318046 0.04184038\n",
      " 0.05027794 0.04816855 0.04208854 0.04332936 0.04486798 0.04531467\n",
      " 0.04161703 0.04720071 0.04931011 0.05650685 0.05727616 0.06147012\n",
      " 0.06757495 0.07411406 0.06975878 0.0776752  0.07171928 0.07784892\n",
      " 0.07700516 0.07869267 0.07439944 0.07536728 0.07149593 0.07740222\n",
      " 0.07839488 0.07757594 0.07556581 0.07531765 0.07030474 0.07298491\n",
      " 0.06134604 0.06196645 0.06603633 0.0672027  0.0588644  0.05653167\n",
      " 0.04873933 0.05419893 0.06035338 0.05742505 0.05390113 0.05350407\n",
      " 0.06000596 0.05534048 0.05948481 0.05898849 0.0588644  0.05496824\n",
      " 0.05330554 0.0524866  0.05442228 0.05065019 0.05648203 0.05650685\n",
      " 0.05859142 0.05955926 0.05702799 0.06010522 0.06787274 0.06578817\n",
      " 0.0670538  0.07112368 0.06782311 0.07238932 0.07655847 0.07586361\n",
      " 0.07514393 0.07439944 0.07854378 0.08239031 0.08395374 0.08472305\n",
      " 0.09139865 0.09651082 0.10283899 0.09953842 0.10417907 0.10266528\n",
      " 0.10549434 0.11420488 0.11254219 0.10735557 0.09757792 0.10675998\n",
      " 0.10489875 0.10837304 0.11274072 0.11380782 0.10829859 0.10385646\n",
      " 0.10549434 0.11686219 0.11901782 0.12253635]\n",
      "3 day output [[0.12619883]]\n",
      "4 day input [0.05176692 0.05568791 0.05367778 0.04318046 0.04184038 0.05027794\n",
      " 0.04816855 0.04208854 0.04332936 0.04486798 0.04531467 0.04161703\n",
      " 0.04720071 0.04931011 0.05650685 0.05727616 0.06147012 0.06757495\n",
      " 0.07411406 0.06975878 0.0776752  0.07171928 0.07784892 0.07700516\n",
      " 0.07869267 0.07439944 0.07536728 0.07149593 0.07740222 0.07839488\n",
      " 0.07757594 0.07556581 0.07531765 0.07030474 0.07298491 0.06134604\n",
      " 0.06196645 0.06603633 0.0672027  0.0588644  0.05653167 0.04873933\n",
      " 0.05419893 0.06035338 0.05742505 0.05390113 0.05350407 0.06000596\n",
      " 0.05534048 0.05948481 0.05898849 0.0588644  0.05496824 0.05330554\n",
      " 0.0524866  0.05442228 0.05065019 0.05648203 0.05650685 0.05859142\n",
      " 0.05955926 0.05702799 0.06010522 0.06787274 0.06578817 0.0670538\n",
      " 0.07112368 0.06782311 0.07238932 0.07655847 0.07586361 0.07514393\n",
      " 0.07439944 0.07854378 0.08239031 0.08395374 0.08472305 0.09139865\n",
      " 0.09651082 0.10283899 0.09953842 0.10417907 0.10266528 0.10549434\n",
      " 0.11420488 0.11254219 0.10735557 0.09757792 0.10675998 0.10489875\n",
      " 0.10837304 0.11274072 0.11380782 0.10829859 0.10385646 0.10549434\n",
      " 0.11686219 0.11901782 0.12253635 0.12619883]\n",
      "4 day output [[0.12971206]]\n",
      "5 day input [0.05568791 0.05367778 0.04318046 0.04184038 0.05027794 0.04816855\n",
      " 0.04208854 0.04332936 0.04486798 0.04531467 0.04161703 0.04720071\n",
      " 0.04931011 0.05650685 0.05727616 0.06147012 0.06757495 0.07411406\n",
      " 0.06975878 0.0776752  0.07171928 0.07784892 0.07700516 0.07869267\n",
      " 0.07439944 0.07536728 0.07149593 0.07740222 0.07839488 0.07757594\n",
      " 0.07556581 0.07531765 0.07030474 0.07298491 0.06134604 0.06196645\n",
      " 0.06603633 0.0672027  0.0588644  0.05653167 0.04873933 0.05419893\n",
      " 0.06035338 0.05742505 0.05390113 0.05350407 0.06000596 0.05534048\n",
      " 0.05948481 0.05898849 0.0588644  0.05496824 0.05330554 0.0524866\n",
      " 0.05442228 0.05065019 0.05648203 0.05650685 0.05859142 0.05955926\n",
      " 0.05702799 0.06010522 0.06787274 0.06578817 0.0670538  0.07112368\n",
      " 0.06782311 0.07238932 0.07655847 0.07586361 0.07514393 0.07439944\n",
      " 0.07854378 0.08239031 0.08395374 0.08472305 0.09139865 0.09651082\n",
      " 0.10283899 0.09953842 0.10417907 0.10266528 0.10549434 0.11420488\n",
      " 0.11254219 0.10735557 0.09757792 0.10675998 0.10489875 0.10837304\n",
      " 0.11274072 0.11380782 0.10829859 0.10385646 0.10549434 0.11686219\n",
      " 0.11901782 0.12253635 0.12619883 0.12971206]\n",
      "5 day output [[0.13305254]]\n",
      "6 day input [0.05367778 0.04318046 0.04184038 0.05027794 0.04816855 0.04208854\n",
      " 0.04332936 0.04486798 0.04531467 0.04161703 0.04720071 0.04931011\n",
      " 0.05650685 0.05727616 0.06147012 0.06757495 0.07411406 0.06975878\n",
      " 0.0776752  0.07171928 0.07784892 0.07700516 0.07869267 0.07439944\n",
      " 0.07536728 0.07149593 0.07740222 0.07839488 0.07757594 0.07556581\n",
      " 0.07531765 0.07030474 0.07298491 0.06134604 0.06196645 0.06603633\n",
      " 0.0672027  0.0588644  0.05653167 0.04873933 0.05419893 0.06035338\n",
      " 0.05742505 0.05390113 0.05350407 0.06000596 0.05534048 0.05948481\n",
      " 0.05898849 0.0588644  0.05496824 0.05330554 0.0524866  0.05442228\n",
      " 0.05065019 0.05648203 0.05650685 0.05859142 0.05955926 0.05702799\n",
      " 0.06010522 0.06787274 0.06578817 0.0670538  0.07112368 0.06782311\n",
      " 0.07238932 0.07655847 0.07586361 0.07514393 0.07439944 0.07854378\n",
      " 0.08239031 0.08395374 0.08472305 0.09139865 0.09651082 0.10283899\n",
      " 0.09953842 0.10417907 0.10266528 0.10549434 0.11420488 0.11254219\n",
      " 0.10735557 0.09757792 0.10675998 0.10489875 0.10837304 0.11274072\n",
      " 0.11380782 0.10829859 0.10385646 0.10549434 0.11686219 0.11901782\n",
      " 0.12253635 0.12619883 0.12971206 0.13305254]\n",
      "6 day output [[0.1362318]]\n",
      "7 day input [0.04318046 0.04184038 0.05027794 0.04816855 0.04208854 0.04332936\n",
      " 0.04486798 0.04531467 0.04161703 0.04720071 0.04931011 0.05650685\n",
      " 0.05727616 0.06147012 0.06757495 0.07411406 0.06975878 0.0776752\n",
      " 0.07171928 0.07784892 0.07700516 0.07869267 0.07439944 0.07536728\n",
      " 0.07149593 0.07740222 0.07839488 0.07757594 0.07556581 0.07531765\n",
      " 0.07030474 0.07298491 0.06134604 0.06196645 0.06603633 0.0672027\n",
      " 0.0588644  0.05653167 0.04873933 0.05419893 0.06035338 0.05742505\n",
      " 0.05390113 0.05350407 0.06000596 0.05534048 0.05948481 0.05898849\n",
      " 0.0588644  0.05496824 0.05330554 0.0524866  0.05442228 0.05065019\n",
      " 0.05648203 0.05650685 0.05859142 0.05955926 0.05702799 0.06010522\n",
      " 0.06787274 0.06578817 0.0670538  0.07112368 0.06782311 0.07238932\n",
      " 0.07655847 0.07586361 0.07514393 0.07439944 0.07854378 0.08239031\n",
      " 0.08395374 0.08472305 0.09139865 0.09651082 0.10283899 0.09953842\n",
      " 0.10417907 0.10266528 0.10549434 0.11420488 0.11254219 0.10735557\n",
      " 0.09757792 0.10675998 0.10489875 0.10837304 0.11274072 0.11380782\n",
      " 0.10829859 0.10385646 0.10549434 0.11686219 0.11901782 0.12253635\n",
      " 0.12619883 0.12971206 0.13305254 0.13623179]\n",
      "7 day output [[0.13925676]]\n",
      "8 day input [0.04184038 0.05027794 0.04816855 0.04208854 0.04332936 0.04486798\n",
      " 0.04531467 0.04161703 0.04720071 0.04931011 0.05650685 0.05727616\n",
      " 0.06147012 0.06757495 0.07411406 0.06975878 0.0776752  0.07171928\n",
      " 0.07784892 0.07700516 0.07869267 0.07439944 0.07536728 0.07149593\n",
      " 0.07740222 0.07839488 0.07757594 0.07556581 0.07531765 0.07030474\n",
      " 0.07298491 0.06134604 0.06196645 0.06603633 0.0672027  0.0588644\n",
      " 0.05653167 0.04873933 0.05419893 0.06035338 0.05742505 0.05390113\n",
      " 0.05350407 0.06000596 0.05534048 0.05948481 0.05898849 0.0588644\n",
      " 0.05496824 0.05330554 0.0524866  0.05442228 0.05065019 0.05648203\n",
      " 0.05650685 0.05859142 0.05955926 0.05702799 0.06010522 0.06787274\n",
      " 0.06578817 0.0670538  0.07112368 0.06782311 0.07238932 0.07655847\n",
      " 0.07586361 0.07514393 0.07439944 0.07854378 0.08239031 0.08395374\n",
      " 0.08472305 0.09139865 0.09651082 0.10283899 0.09953842 0.10417907\n",
      " 0.10266528 0.10549434 0.11420488 0.11254219 0.10735557 0.09757792\n",
      " 0.10675998 0.10489875 0.10837304 0.11274072 0.11380782 0.10829859\n",
      " 0.10385646 0.10549434 0.11686219 0.11901782 0.12253635 0.12619883\n",
      " 0.12971206 0.13305254 0.13623179 0.13925676]\n"
     ]
    },
    {
     "name": "stdout",
     "output_type": "stream",
     "text": [
      "8 day output [[0.14213173]]\n",
      "9 day input [0.05027794 0.04816855 0.04208854 0.04332936 0.04486798 0.04531467\n",
      " 0.04161703 0.04720071 0.04931011 0.05650685 0.05727616 0.06147012\n",
      " 0.06757495 0.07411406 0.06975878 0.0776752  0.07171928 0.07784892\n",
      " 0.07700516 0.07869267 0.07439944 0.07536728 0.07149593 0.07740222\n",
      " 0.07839488 0.07757594 0.07556581 0.07531765 0.07030474 0.07298491\n",
      " 0.06134604 0.06196645 0.06603633 0.0672027  0.0588644  0.05653167\n",
      " 0.04873933 0.05419893 0.06035338 0.05742505 0.05390113 0.05350407\n",
      " 0.06000596 0.05534048 0.05948481 0.05898849 0.0588644  0.05496824\n",
      " 0.05330554 0.0524866  0.05442228 0.05065019 0.05648203 0.05650685\n",
      " 0.05859142 0.05955926 0.05702799 0.06010522 0.06787274 0.06578817\n",
      " 0.0670538  0.07112368 0.06782311 0.07238932 0.07655847 0.07586361\n",
      " 0.07514393 0.07439944 0.07854378 0.08239031 0.08395374 0.08472305\n",
      " 0.09139865 0.09651082 0.10283899 0.09953842 0.10417907 0.10266528\n",
      " 0.10549434 0.11420488 0.11254219 0.10735557 0.09757792 0.10675998\n",
      " 0.10489875 0.10837304 0.11274072 0.11380782 0.10829859 0.10385646\n",
      " 0.10549434 0.11686219 0.11901782 0.12253635 0.12619883 0.12971206\n",
      " 0.13305254 0.13623179 0.13925676 0.14213173]\n",
      "9 day output [[0.14486137]]\n",
      "10 day input [0.04816855 0.04208854 0.04332936 0.04486798 0.04531467 0.04161703\n",
      " 0.04720071 0.04931011 0.05650685 0.05727616 0.06147012 0.06757495\n",
      " 0.07411406 0.06975878 0.0776752  0.07171928 0.07784892 0.07700516\n",
      " 0.07869267 0.07439944 0.07536728 0.07149593 0.07740222 0.07839488\n",
      " 0.07757594 0.07556581 0.07531765 0.07030474 0.07298491 0.06134604\n",
      " 0.06196645 0.06603633 0.0672027  0.0588644  0.05653167 0.04873933\n",
      " 0.05419893 0.06035338 0.05742505 0.05390113 0.05350407 0.06000596\n",
      " 0.05534048 0.05948481 0.05898849 0.0588644  0.05496824 0.05330554\n",
      " 0.0524866  0.05442228 0.05065019 0.05648203 0.05650685 0.05859142\n",
      " 0.05955926 0.05702799 0.06010522 0.06787274 0.06578817 0.0670538\n",
      " 0.07112368 0.06782311 0.07238932 0.07655847 0.07586361 0.07514393\n",
      " 0.07439944 0.07854378 0.08239031 0.08395374 0.08472305 0.09139865\n",
      " 0.09651082 0.10283899 0.09953842 0.10417907 0.10266528 0.10549434\n",
      " 0.11420488 0.11254219 0.10735557 0.09757792 0.10675998 0.10489875\n",
      " 0.10837304 0.11274072 0.11380782 0.10829859 0.10385646 0.10549434\n",
      " 0.11686219 0.11901782 0.12253635 0.12619883 0.12971206 0.13305254\n",
      " 0.13623179 0.13925676 0.14213173 0.14486137]\n",
      "10 day output [[0.14745124]]\n",
      "11 day input [0.04208854 0.04332936 0.04486798 0.04531467 0.04161703 0.04720071\n",
      " 0.04931011 0.05650685 0.05727616 0.06147012 0.06757495 0.07411406\n",
      " 0.06975878 0.0776752  0.07171928 0.07784892 0.07700516 0.07869267\n",
      " 0.07439944 0.07536728 0.07149593 0.07740222 0.07839488 0.07757594\n",
      " 0.07556581 0.07531765 0.07030474 0.07298491 0.06134604 0.06196645\n",
      " 0.06603633 0.0672027  0.0588644  0.05653167 0.04873933 0.05419893\n",
      " 0.06035338 0.05742505 0.05390113 0.05350407 0.06000596 0.05534048\n",
      " 0.05948481 0.05898849 0.0588644  0.05496824 0.05330554 0.0524866\n",
      " 0.05442228 0.05065019 0.05648203 0.05650685 0.05859142 0.05955926\n",
      " 0.05702799 0.06010522 0.06787274 0.06578817 0.0670538  0.07112368\n",
      " 0.06782311 0.07238932 0.07655847 0.07586361 0.07514393 0.07439944\n",
      " 0.07854378 0.08239031 0.08395374 0.08472305 0.09139865 0.09651082\n",
      " 0.10283899 0.09953842 0.10417907 0.10266528 0.10549434 0.11420488\n",
      " 0.11254219 0.10735557 0.09757792 0.10675998 0.10489875 0.10837304\n",
      " 0.11274072 0.11380782 0.10829859 0.10385646 0.10549434 0.11686219\n",
      " 0.11901782 0.12253635 0.12619883 0.12971206 0.13305254 0.13623179\n",
      " 0.13925676 0.14213173 0.14486137 0.14745124]\n",
      "11 day output [[0.14990738]]\n",
      "12 day input [0.04332936 0.04486798 0.04531467 0.04161703 0.04720071 0.04931011\n",
      " 0.05650685 0.05727616 0.06147012 0.06757495 0.07411406 0.06975878\n",
      " 0.0776752  0.07171928 0.07784892 0.07700516 0.07869267 0.07439944\n",
      " 0.07536728 0.07149593 0.07740222 0.07839488 0.07757594 0.07556581\n",
      " 0.07531765 0.07030474 0.07298491 0.06134604 0.06196645 0.06603633\n",
      " 0.0672027  0.0588644  0.05653167 0.04873933 0.05419893 0.06035338\n",
      " 0.05742505 0.05390113 0.05350407 0.06000596 0.05534048 0.05948481\n",
      " 0.05898849 0.0588644  0.05496824 0.05330554 0.0524866  0.05442228\n",
      " 0.05065019 0.05648203 0.05650685 0.05859142 0.05955926 0.05702799\n",
      " 0.06010522 0.06787274 0.06578817 0.0670538  0.07112368 0.06782311\n",
      " 0.07238932 0.07655847 0.07586361 0.07514393 0.07439944 0.07854378\n",
      " 0.08239031 0.08395374 0.08472305 0.09139865 0.09651082 0.10283899\n",
      " 0.09953842 0.10417907 0.10266528 0.10549434 0.11420488 0.11254219\n",
      " 0.10735557 0.09757792 0.10675998 0.10489875 0.10837304 0.11274072\n",
      " 0.11380782 0.10829859 0.10385646 0.10549434 0.11686219 0.11901782\n",
      " 0.12253635 0.12619883 0.12971206 0.13305254 0.13623179 0.13925676\n",
      " 0.14213173 0.14486137 0.14745124 0.14990738]\n",
      "12 day output [[0.15223606]]\n",
      "13 day input [0.04486798 0.04531467 0.04161703 0.04720071 0.04931011 0.05650685\n",
      " 0.05727616 0.06147012 0.06757495 0.07411406 0.06975878 0.0776752\n",
      " 0.07171928 0.07784892 0.07700516 0.07869267 0.07439944 0.07536728\n",
      " 0.07149593 0.07740222 0.07839488 0.07757594 0.07556581 0.07531765\n",
      " 0.07030474 0.07298491 0.06134604 0.06196645 0.06603633 0.0672027\n",
      " 0.0588644  0.05653167 0.04873933 0.05419893 0.06035338 0.05742505\n",
      " 0.05390113 0.05350407 0.06000596 0.05534048 0.05948481 0.05898849\n",
      " 0.0588644  0.05496824 0.05330554 0.0524866  0.05442228 0.05065019\n",
      " 0.05648203 0.05650685 0.05859142 0.05955926 0.05702799 0.06010522\n",
      " 0.06787274 0.06578817 0.0670538  0.07112368 0.06782311 0.07238932\n",
      " 0.07655847 0.07586361 0.07514393 0.07439944 0.07854378 0.08239031\n",
      " 0.08395374 0.08472305 0.09139865 0.09651082 0.10283899 0.09953842\n",
      " 0.10417907 0.10266528 0.10549434 0.11420488 0.11254219 0.10735557\n",
      " 0.09757792 0.10675998 0.10489875 0.10837304 0.11274072 0.11380782\n",
      " 0.10829859 0.10385646 0.10549434 0.11686219 0.11901782 0.12253635\n",
      " 0.12619883 0.12971206 0.13305254 0.13623179 0.13925676 0.14213173\n",
      " 0.14486137 0.14745124 0.14990738 0.15223606]\n",
      "13 day output [[0.1544435]]\n",
      "14 day input [0.04531467 0.04161703 0.04720071 0.04931011 0.05650685 0.05727616\n",
      " 0.06147012 0.06757495 0.07411406 0.06975878 0.0776752  0.07171928\n",
      " 0.07784892 0.07700516 0.07869267 0.07439944 0.07536728 0.07149593\n",
      " 0.07740222 0.07839488 0.07757594 0.07556581 0.07531765 0.07030474\n",
      " 0.07298491 0.06134604 0.06196645 0.06603633 0.0672027  0.0588644\n",
      " 0.05653167 0.04873933 0.05419893 0.06035338 0.05742505 0.05390113\n",
      " 0.05350407 0.06000596 0.05534048 0.05948481 0.05898849 0.0588644\n",
      " 0.05496824 0.05330554 0.0524866  0.05442228 0.05065019 0.05648203\n",
      " 0.05650685 0.05859142 0.05955926 0.05702799 0.06010522 0.06787274\n",
      " 0.06578817 0.0670538  0.07112368 0.06782311 0.07238932 0.07655847\n",
      " 0.07586361 0.07514393 0.07439944 0.07854378 0.08239031 0.08395374\n",
      " 0.08472305 0.09139865 0.09651082 0.10283899 0.09953842 0.10417907\n",
      " 0.10266528 0.10549434 0.11420488 0.11254219 0.10735557 0.09757792\n",
      " 0.10675998 0.10489875 0.10837304 0.11274072 0.11380782 0.10829859\n",
      " 0.10385646 0.10549434 0.11686219 0.11901782 0.12253635 0.12619883\n",
      " 0.12971206 0.13305254 0.13623179 0.13925676 0.14213173 0.14486137\n",
      " 0.14745124 0.14990738 0.15223606 0.1544435 ]\n",
      "14 day output [[0.15653577]]\n",
      "15 day input [0.04161703 0.04720071 0.04931011 0.05650685 0.05727616 0.06147012\n",
      " 0.06757495 0.07411406 0.06975878 0.0776752  0.07171928 0.07784892\n",
      " 0.07700516 0.07869267 0.07439944 0.07536728 0.07149593 0.07740222\n",
      " 0.07839488 0.07757594 0.07556581 0.07531765 0.07030474 0.07298491\n",
      " 0.06134604 0.06196645 0.06603633 0.0672027  0.0588644  0.05653167\n",
      " 0.04873933 0.05419893 0.06035338 0.05742505 0.05390113 0.05350407\n",
      " 0.06000596 0.05534048 0.05948481 0.05898849 0.0588644  0.05496824\n",
      " 0.05330554 0.0524866  0.05442228 0.05065019 0.05648203 0.05650685\n",
      " 0.05859142 0.05955926 0.05702799 0.06010522 0.06787274 0.06578817\n",
      " 0.0670538  0.07112368 0.06782311 0.07238932 0.07655847 0.07586361\n",
      " 0.07514393 0.07439944 0.07854378 0.08239031 0.08395374 0.08472305\n",
      " 0.09139865 0.09651082 0.10283899 0.09953842 0.10417907 0.10266528\n",
      " 0.10549434 0.11420488 0.11254219 0.10735557 0.09757792 0.10675998\n",
      " 0.10489875 0.10837304 0.11274072 0.11380782 0.10829859 0.10385646\n",
      " 0.10549434 0.11686219 0.11901782 0.12253635 0.12619883 0.12971206\n",
      " 0.13305254 0.13623179 0.13925676 0.14213173 0.14486137 0.14745124\n",
      " 0.14990738 0.15223606 0.1544435  0.15653577]\n",
      "15 day output [[0.15851876]]\n",
      "16 day input [0.04720071 0.04931011 0.05650685 0.05727616 0.06147012 0.06757495\n",
      " 0.07411406 0.06975878 0.0776752  0.07171928 0.07784892 0.07700516\n",
      " 0.07869267 0.07439944 0.07536728 0.07149593 0.07740222 0.07839488\n",
      " 0.07757594 0.07556581 0.07531765 0.07030474 0.07298491 0.06134604\n",
      " 0.06196645 0.06603633 0.0672027  0.0588644  0.05653167 0.04873933\n",
      " 0.05419893 0.06035338 0.05742505 0.05390113 0.05350407 0.06000596\n",
      " 0.05534048 0.05948481 0.05898849 0.0588644  0.05496824 0.05330554\n",
      " 0.0524866  0.05442228 0.05065019 0.05648203 0.05650685 0.05859142\n",
      " 0.05955926 0.05702799 0.06010522 0.06787274 0.06578817 0.0670538\n",
      " 0.07112368 0.06782311 0.07238932 0.07655847 0.07586361 0.07514393\n",
      " 0.07439944 0.07854378 0.08239031 0.08395374 0.08472305 0.09139865\n",
      " 0.09651082 0.10283899 0.09953842 0.10417907 0.10266528 0.10549434\n",
      " 0.11420488 0.11254219 0.10735557 0.09757792 0.10675998 0.10489875\n",
      " 0.10837304 0.11274072 0.11380782 0.10829859 0.10385646 0.10549434\n",
      " 0.11686219 0.11901782 0.12253635 0.12619883 0.12971206 0.13305254\n",
      " 0.13623179 0.13925676 0.14213173 0.14486137 0.14745124 0.14990738\n",
      " 0.15223606 0.1544435  0.15653577 0.15851876]\n"
     ]
    },
    {
     "name": "stdout",
     "output_type": "stream",
     "text": [
      "16 day output [[0.16039805]]\n",
      "17 day input [0.04931011 0.05650685 0.05727616 0.06147012 0.06757495 0.07411406\n",
      " 0.06975878 0.0776752  0.07171928 0.07784892 0.07700516 0.07869267\n",
      " 0.07439944 0.07536728 0.07149593 0.07740222 0.07839488 0.07757594\n",
      " 0.07556581 0.07531765 0.07030474 0.07298491 0.06134604 0.06196645\n",
      " 0.06603633 0.0672027  0.0588644  0.05653167 0.04873933 0.05419893\n",
      " 0.06035338 0.05742505 0.05390113 0.05350407 0.06000596 0.05534048\n",
      " 0.05948481 0.05898849 0.0588644  0.05496824 0.05330554 0.0524866\n",
      " 0.05442228 0.05065019 0.05648203 0.05650685 0.05859142 0.05955926\n",
      " 0.05702799 0.06010522 0.06787274 0.06578817 0.0670538  0.07112368\n",
      " 0.06782311 0.07238932 0.07655847 0.07586361 0.07514393 0.07439944\n",
      " 0.07854378 0.08239031 0.08395374 0.08472305 0.09139865 0.09651082\n",
      " 0.10283899 0.09953842 0.10417907 0.10266528 0.10549434 0.11420488\n",
      " 0.11254219 0.10735557 0.09757792 0.10675998 0.10489875 0.10837304\n",
      " 0.11274072 0.11380782 0.10829859 0.10385646 0.10549434 0.11686219\n",
      " 0.11901782 0.12253635 0.12619883 0.12971206 0.13305254 0.13623179\n",
      " 0.13925676 0.14213173 0.14486137 0.14745124 0.14990738 0.15223606\n",
      " 0.1544435  0.15653577 0.15851876 0.16039805]\n",
      "17 day output [[0.16217902]]\n",
      "18 day input [0.05650685 0.05727616 0.06147012 0.06757495 0.07411406 0.06975878\n",
      " 0.0776752  0.07171928 0.07784892 0.07700516 0.07869267 0.07439944\n",
      " 0.07536728 0.07149593 0.07740222 0.07839488 0.07757594 0.07556581\n",
      " 0.07531765 0.07030474 0.07298491 0.06134604 0.06196645 0.06603633\n",
      " 0.0672027  0.0588644  0.05653167 0.04873933 0.05419893 0.06035338\n",
      " 0.05742505 0.05390113 0.05350407 0.06000596 0.05534048 0.05948481\n",
      " 0.05898849 0.0588644  0.05496824 0.05330554 0.0524866  0.05442228\n",
      " 0.05065019 0.05648203 0.05650685 0.05859142 0.05955926 0.05702799\n",
      " 0.06010522 0.06787274 0.06578817 0.0670538  0.07112368 0.06782311\n",
      " 0.07238932 0.07655847 0.07586361 0.07514393 0.07439944 0.07854378\n",
      " 0.08239031 0.08395374 0.08472305 0.09139865 0.09651082 0.10283899\n",
      " 0.09953842 0.10417907 0.10266528 0.10549434 0.11420488 0.11254219\n",
      " 0.10735557 0.09757792 0.10675998 0.10489875 0.10837304 0.11274072\n",
      " 0.11380782 0.10829859 0.10385646 0.10549434 0.11686219 0.11901782\n",
      " 0.12253635 0.12619883 0.12971206 0.13305254 0.13623179 0.13925676\n",
      " 0.14213173 0.14486137 0.14745124 0.14990738 0.15223606 0.1544435\n",
      " 0.15653577 0.15851876 0.16039805 0.16217902]\n",
      "18 day output [[0.16386676]]\n",
      "19 day input [0.05727616 0.06147012 0.06757495 0.07411406 0.06975878 0.0776752\n",
      " 0.07171928 0.07784892 0.07700516 0.07869267 0.07439944 0.07536728\n",
      " 0.07149593 0.07740222 0.07839488 0.07757594 0.07556581 0.07531765\n",
      " 0.07030474 0.07298491 0.06134604 0.06196645 0.06603633 0.0672027\n",
      " 0.0588644  0.05653167 0.04873933 0.05419893 0.06035338 0.05742505\n",
      " 0.05390113 0.05350407 0.06000596 0.05534048 0.05948481 0.05898849\n",
      " 0.0588644  0.05496824 0.05330554 0.0524866  0.05442228 0.05065019\n",
      " 0.05648203 0.05650685 0.05859142 0.05955926 0.05702799 0.06010522\n",
      " 0.06787274 0.06578817 0.0670538  0.07112368 0.06782311 0.07238932\n",
      " 0.07655847 0.07586361 0.07514393 0.07439944 0.07854378 0.08239031\n",
      " 0.08395374 0.08472305 0.09139865 0.09651082 0.10283899 0.09953842\n",
      " 0.10417907 0.10266528 0.10549434 0.11420488 0.11254219 0.10735557\n",
      " 0.09757792 0.10675998 0.10489875 0.10837304 0.11274072 0.11380782\n",
      " 0.10829859 0.10385646 0.10549434 0.11686219 0.11901782 0.12253635\n",
      " 0.12619883 0.12971206 0.13305254 0.13623179 0.13925676 0.14213173\n",
      " 0.14486137 0.14745124 0.14990738 0.15223606 0.1544435  0.15653577\n",
      " 0.15851876 0.16039805 0.16217902 0.16386676]\n",
      "19 day output [[0.1654661]]\n",
      "20 day input [0.06147012 0.06757495 0.07411406 0.06975878 0.0776752  0.07171928\n",
      " 0.07784892 0.07700516 0.07869267 0.07439944 0.07536728 0.07149593\n",
      " 0.07740222 0.07839488 0.07757594 0.07556581 0.07531765 0.07030474\n",
      " 0.07298491 0.06134604 0.06196645 0.06603633 0.0672027  0.0588644\n",
      " 0.05653167 0.04873933 0.05419893 0.06035338 0.05742505 0.05390113\n",
      " 0.05350407 0.06000596 0.05534048 0.05948481 0.05898849 0.0588644\n",
      " 0.05496824 0.05330554 0.0524866  0.05442228 0.05065019 0.05648203\n",
      " 0.05650685 0.05859142 0.05955926 0.05702799 0.06010522 0.06787274\n",
      " 0.06578817 0.0670538  0.07112368 0.06782311 0.07238932 0.07655847\n",
      " 0.07586361 0.07514393 0.07439944 0.07854378 0.08239031 0.08395374\n",
      " 0.08472305 0.09139865 0.09651082 0.10283899 0.09953842 0.10417907\n",
      " 0.10266528 0.10549434 0.11420488 0.11254219 0.10735557 0.09757792\n",
      " 0.10675998 0.10489875 0.10837304 0.11274072 0.11380782 0.10829859\n",
      " 0.10385646 0.10549434 0.11686219 0.11901782 0.12253635 0.12619883\n",
      " 0.12971206 0.13305254 0.13623179 0.13925676 0.14213173 0.14486137\n",
      " 0.14745124 0.14990738 0.15223606 0.1544435  0.15653577 0.15851876\n",
      " 0.16039805 0.16217902 0.16386676 0.1654661 ]\n",
      "20 day output [[0.16698164]]\n",
      "21 day input [0.06757495 0.07411406 0.06975878 0.0776752  0.07171928 0.07784892\n",
      " 0.07700516 0.07869267 0.07439944 0.07536728 0.07149593 0.07740222\n",
      " 0.07839488 0.07757594 0.07556581 0.07531765 0.07030474 0.07298491\n",
      " 0.06134604 0.06196645 0.06603633 0.0672027  0.0588644  0.05653167\n",
      " 0.04873933 0.05419893 0.06035338 0.05742505 0.05390113 0.05350407\n",
      " 0.06000596 0.05534048 0.05948481 0.05898849 0.0588644  0.05496824\n",
      " 0.05330554 0.0524866  0.05442228 0.05065019 0.05648203 0.05650685\n",
      " 0.05859142 0.05955926 0.05702799 0.06010522 0.06787274 0.06578817\n",
      " 0.0670538  0.07112368 0.06782311 0.07238932 0.07655847 0.07586361\n",
      " 0.07514393 0.07439944 0.07854378 0.08239031 0.08395374 0.08472305\n",
      " 0.09139865 0.09651082 0.10283899 0.09953842 0.10417907 0.10266528\n",
      " 0.10549434 0.11420488 0.11254219 0.10735557 0.09757792 0.10675998\n",
      " 0.10489875 0.10837304 0.11274072 0.11380782 0.10829859 0.10385646\n",
      " 0.10549434 0.11686219 0.11901782 0.12253635 0.12619883 0.12971206\n",
      " 0.13305254 0.13623179 0.13925676 0.14213173 0.14486137 0.14745124\n",
      " 0.14990738 0.15223606 0.1544435  0.15653577 0.15851876 0.16039805\n",
      " 0.16217902 0.16386676 0.1654661  0.16698164]\n",
      "21 day output [[0.16841775]]\n",
      "22 day input [0.07411406 0.06975878 0.0776752  0.07171928 0.07784892 0.07700516\n",
      " 0.07869267 0.07439944 0.07536728 0.07149593 0.07740222 0.07839488\n",
      " 0.07757594 0.07556581 0.07531765 0.07030474 0.07298491 0.06134604\n",
      " 0.06196645 0.06603633 0.0672027  0.0588644  0.05653167 0.04873933\n",
      " 0.05419893 0.06035338 0.05742505 0.05390113 0.05350407 0.06000596\n",
      " 0.05534048 0.05948481 0.05898849 0.0588644  0.05496824 0.05330554\n",
      " 0.0524866  0.05442228 0.05065019 0.05648203 0.05650685 0.05859142\n",
      " 0.05955926 0.05702799 0.06010522 0.06787274 0.06578817 0.0670538\n",
      " 0.07112368 0.06782311 0.07238932 0.07655847 0.07586361 0.07514393\n",
      " 0.07439944 0.07854378 0.08239031 0.08395374 0.08472305 0.09139865\n",
      " 0.09651082 0.10283899 0.09953842 0.10417907 0.10266528 0.10549434\n",
      " 0.11420488 0.11254219 0.10735557 0.09757792 0.10675998 0.10489875\n",
      " 0.10837304 0.11274072 0.11380782 0.10829859 0.10385646 0.10549434\n",
      " 0.11686219 0.11901782 0.12253635 0.12619883 0.12971206 0.13305254\n",
      " 0.13623179 0.13925676 0.14213173 0.14486137 0.14745124 0.14990738\n",
      " 0.15223606 0.1544435  0.15653577 0.15851876 0.16039805 0.16217902\n",
      " 0.16386676 0.1654661  0.16698164 0.16841775]\n",
      "22 day output [[0.16977856]]\n",
      "23 day input [0.06975878 0.0776752  0.07171928 0.07784892 0.07700516 0.07869267\n",
      " 0.07439944 0.07536728 0.07149593 0.07740222 0.07839488 0.07757594\n",
      " 0.07556581 0.07531765 0.07030474 0.07298491 0.06134604 0.06196645\n",
      " 0.06603633 0.0672027  0.0588644  0.05653167 0.04873933 0.05419893\n",
      " 0.06035338 0.05742505 0.05390113 0.05350407 0.06000596 0.05534048\n",
      " 0.05948481 0.05898849 0.0588644  0.05496824 0.05330554 0.0524866\n",
      " 0.05442228 0.05065019 0.05648203 0.05650685 0.05859142 0.05955926\n",
      " 0.05702799 0.06010522 0.06787274 0.06578817 0.0670538  0.07112368\n",
      " 0.06782311 0.07238932 0.07655847 0.07586361 0.07514393 0.07439944\n",
      " 0.07854378 0.08239031 0.08395374 0.08472305 0.09139865 0.09651082\n",
      " 0.10283899 0.09953842 0.10417907 0.10266528 0.10549434 0.11420488\n",
      " 0.11254219 0.10735557 0.09757792 0.10675998 0.10489875 0.10837304\n",
      " 0.11274072 0.11380782 0.10829859 0.10385646 0.10549434 0.11686219\n",
      " 0.11901782 0.12253635 0.12619883 0.12971206 0.13305254 0.13623179\n",
      " 0.13925676 0.14213173 0.14486137 0.14745124 0.14990738 0.15223606\n",
      " 0.1544435  0.15653577 0.15851876 0.16039805 0.16217902 0.16386676\n",
      " 0.1654661  0.16698164 0.16841775 0.16977856]\n",
      "23 day output [[0.17106798]]\n",
      "24 day input [0.0776752  0.07171928 0.07784892 0.07700516 0.07869267 0.07439944\n",
      " 0.07536728 0.07149593 0.07740222 0.07839488 0.07757594 0.07556581\n",
      " 0.07531765 0.07030474 0.07298491 0.06134604 0.06196645 0.06603633\n",
      " 0.0672027  0.0588644  0.05653167 0.04873933 0.05419893 0.06035338\n",
      " 0.05742505 0.05390113 0.05350407 0.06000596 0.05534048 0.05948481\n",
      " 0.05898849 0.0588644  0.05496824 0.05330554 0.0524866  0.05442228\n",
      " 0.05065019 0.05648203 0.05650685 0.05859142 0.05955926 0.05702799\n",
      " 0.06010522 0.06787274 0.06578817 0.0670538  0.07112368 0.06782311\n",
      " 0.07238932 0.07655847 0.07586361 0.07514393 0.07439944 0.07854378\n",
      " 0.08239031 0.08395374 0.08472305 0.09139865 0.09651082 0.10283899\n",
      " 0.09953842 0.10417907 0.10266528 0.10549434 0.11420488 0.11254219\n",
      " 0.10735557 0.09757792 0.10675998 0.10489875 0.10837304 0.11274072\n",
      " 0.11380782 0.10829859 0.10385646 0.10549434 0.11686219 0.11901782\n",
      " 0.12253635 0.12619883 0.12971206 0.13305254 0.13623179 0.13925676\n",
      " 0.14213173 0.14486137 0.14745124 0.14990738 0.15223606 0.1544435\n",
      " 0.15653577 0.15851876 0.16039805 0.16217902 0.16386676 0.1654661\n",
      " 0.16698164 0.16841775 0.16977856 0.17106798]\n"
     ]
    },
    {
     "name": "stdout",
     "output_type": "stream",
     "text": [
      "24 day output [[0.17228976]]\n",
      "25 day input [0.07171928 0.07784892 0.07700516 0.07869267 0.07439944 0.07536728\n",
      " 0.07149593 0.07740222 0.07839488 0.07757594 0.07556581 0.07531765\n",
      " 0.07030474 0.07298491 0.06134604 0.06196645 0.06603633 0.0672027\n",
      " 0.0588644  0.05653167 0.04873933 0.05419893 0.06035338 0.05742505\n",
      " 0.05390113 0.05350407 0.06000596 0.05534048 0.05948481 0.05898849\n",
      " 0.0588644  0.05496824 0.05330554 0.0524866  0.05442228 0.05065019\n",
      " 0.05648203 0.05650685 0.05859142 0.05955926 0.05702799 0.06010522\n",
      " 0.06787274 0.06578817 0.0670538  0.07112368 0.06782311 0.07238932\n",
      " 0.07655847 0.07586361 0.07514393 0.07439944 0.07854378 0.08239031\n",
      " 0.08395374 0.08472305 0.09139865 0.09651082 0.10283899 0.09953842\n",
      " 0.10417907 0.10266528 0.10549434 0.11420488 0.11254219 0.10735557\n",
      " 0.09757792 0.10675998 0.10489875 0.10837304 0.11274072 0.11380782\n",
      " 0.10829859 0.10385646 0.10549434 0.11686219 0.11901782 0.12253635\n",
      " 0.12619883 0.12971206 0.13305254 0.13623179 0.13925676 0.14213173\n",
      " 0.14486137 0.14745124 0.14990738 0.15223606 0.1544435  0.15653577\n",
      " 0.15851876 0.16039805 0.16217902 0.16386676 0.1654661  0.16698164\n",
      " 0.16841775 0.16977856 0.17106798 0.17228976]\n",
      "25 day output [[0.17344737]]\n",
      "26 day input [0.07784892 0.07700516 0.07869267 0.07439944 0.07536728 0.07149593\n",
      " 0.07740222 0.07839488 0.07757594 0.07556581 0.07531765 0.07030474\n",
      " 0.07298491 0.06134604 0.06196645 0.06603633 0.0672027  0.0588644\n",
      " 0.05653167 0.04873933 0.05419893 0.06035338 0.05742505 0.05390113\n",
      " 0.05350407 0.06000596 0.05534048 0.05948481 0.05898849 0.0588644\n",
      " 0.05496824 0.05330554 0.0524866  0.05442228 0.05065019 0.05648203\n",
      " 0.05650685 0.05859142 0.05955926 0.05702799 0.06010522 0.06787274\n",
      " 0.06578817 0.0670538  0.07112368 0.06782311 0.07238932 0.07655847\n",
      " 0.07586361 0.07514393 0.07439944 0.07854378 0.08239031 0.08395374\n",
      " 0.08472305 0.09139865 0.09651082 0.10283899 0.09953842 0.10417907\n",
      " 0.10266528 0.10549434 0.11420488 0.11254219 0.10735557 0.09757792\n",
      " 0.10675998 0.10489875 0.10837304 0.11274072 0.11380782 0.10829859\n",
      " 0.10385646 0.10549434 0.11686219 0.11901782 0.12253635 0.12619883\n",
      " 0.12971206 0.13305254 0.13623179 0.13925676 0.14213173 0.14486137\n",
      " 0.14745124 0.14990738 0.15223606 0.1544435  0.15653577 0.15851876\n",
      " 0.16039805 0.16217902 0.16386676 0.1654661  0.16698164 0.16841775\n",
      " 0.16977856 0.17106798 0.17228976 0.17344737]\n",
      "26 day output [[0.17454422]]\n",
      "27 day input [0.07700516 0.07869267 0.07439944 0.07536728 0.07149593 0.07740222\n",
      " 0.07839488 0.07757594 0.07556581 0.07531765 0.07030474 0.07298491\n",
      " 0.06134604 0.06196645 0.06603633 0.0672027  0.0588644  0.05653167\n",
      " 0.04873933 0.05419893 0.06035338 0.05742505 0.05390113 0.05350407\n",
      " 0.06000596 0.05534048 0.05948481 0.05898849 0.0588644  0.05496824\n",
      " 0.05330554 0.0524866  0.05442228 0.05065019 0.05648203 0.05650685\n",
      " 0.05859142 0.05955926 0.05702799 0.06010522 0.06787274 0.06578817\n",
      " 0.0670538  0.07112368 0.06782311 0.07238932 0.07655847 0.07586361\n",
      " 0.07514393 0.07439944 0.07854378 0.08239031 0.08395374 0.08472305\n",
      " 0.09139865 0.09651082 0.10283899 0.09953842 0.10417907 0.10266528\n",
      " 0.10549434 0.11420488 0.11254219 0.10735557 0.09757792 0.10675998\n",
      " 0.10489875 0.10837304 0.11274072 0.11380782 0.10829859 0.10385646\n",
      " 0.10549434 0.11686219 0.11901782 0.12253635 0.12619883 0.12971206\n",
      " 0.13305254 0.13623179 0.13925676 0.14213173 0.14486137 0.14745124\n",
      " 0.14990738 0.15223606 0.1544435  0.15653577 0.15851876 0.16039805\n",
      " 0.16217902 0.16386676 0.1654661  0.16698164 0.16841775 0.16977856\n",
      " 0.17106798 0.17228976 0.17344737 0.17454422]\n",
      "27 day output [[0.17558344]]\n",
      "28 day input [0.07869267 0.07439944 0.07536728 0.07149593 0.07740222 0.07839488\n",
      " 0.07757594 0.07556581 0.07531765 0.07030474 0.07298491 0.06134604\n",
      " 0.06196645 0.06603633 0.0672027  0.0588644  0.05653167 0.04873933\n",
      " 0.05419893 0.06035338 0.05742505 0.05390113 0.05350407 0.06000596\n",
      " 0.05534048 0.05948481 0.05898849 0.0588644  0.05496824 0.05330554\n",
      " 0.0524866  0.05442228 0.05065019 0.05648203 0.05650685 0.05859142\n",
      " 0.05955926 0.05702799 0.06010522 0.06787274 0.06578817 0.0670538\n",
      " 0.07112368 0.06782311 0.07238932 0.07655847 0.07586361 0.07514393\n",
      " 0.07439944 0.07854378 0.08239031 0.08395374 0.08472305 0.09139865\n",
      " 0.09651082 0.10283899 0.09953842 0.10417907 0.10266528 0.10549434\n",
      " 0.11420488 0.11254219 0.10735557 0.09757792 0.10675998 0.10489875\n",
      " 0.10837304 0.11274072 0.11380782 0.10829859 0.10385646 0.10549434\n",
      " 0.11686219 0.11901782 0.12253635 0.12619883 0.12971206 0.13305254\n",
      " 0.13623179 0.13925676 0.14213173 0.14486137 0.14745124 0.14990738\n",
      " 0.15223606 0.1544435  0.15653577 0.15851876 0.16039805 0.16217902\n",
      " 0.16386676 0.1654661  0.16698164 0.16841775 0.16977856 0.17106798\n",
      " 0.17228976 0.17344737 0.17454422 0.17558344]\n",
      "28 day output [[0.17656806]]\n",
      "29 day input [0.07439944 0.07536728 0.07149593 0.07740222 0.07839488 0.07757594\n",
      " 0.07556581 0.07531765 0.07030474 0.07298491 0.06134604 0.06196645\n",
      " 0.06603633 0.0672027  0.0588644  0.05653167 0.04873933 0.05419893\n",
      " 0.06035338 0.05742505 0.05390113 0.05350407 0.06000596 0.05534048\n",
      " 0.05948481 0.05898849 0.0588644  0.05496824 0.05330554 0.0524866\n",
      " 0.05442228 0.05065019 0.05648203 0.05650685 0.05859142 0.05955926\n",
      " 0.05702799 0.06010522 0.06787274 0.06578817 0.0670538  0.07112368\n",
      " 0.06782311 0.07238932 0.07655847 0.07586361 0.07514393 0.07439944\n",
      " 0.07854378 0.08239031 0.08395374 0.08472305 0.09139865 0.09651082\n",
      " 0.10283899 0.09953842 0.10417907 0.10266528 0.10549434 0.11420488\n",
      " 0.11254219 0.10735557 0.09757792 0.10675998 0.10489875 0.10837304\n",
      " 0.11274072 0.11380782 0.10829859 0.10385646 0.10549434 0.11686219\n",
      " 0.11901782 0.12253635 0.12619883 0.12971206 0.13305254 0.13623179\n",
      " 0.13925676 0.14213173 0.14486137 0.14745124 0.14990738 0.15223606\n",
      " 0.1544435  0.15653577 0.15851876 0.16039805 0.16217902 0.16386676\n",
      " 0.1654661  0.16698164 0.16841775 0.16977856 0.17106798 0.17228976\n",
      " 0.17344737 0.17454422 0.17558344 0.17656806]\n",
      "29 day output [[0.17750093]]\n",
      "[[0.11686219274997711], [0.1190178245306015], [0.12253634631633759], [0.12619882822036743], [0.1297120600938797], [0.1330525428056717], [0.13623179495334625], [0.13925676047801971], [0.1421317309141159], [0.1448613703250885], [0.1474512368440628], [0.14990738034248352], [0.15223605930805206], [0.15444350242614746], [0.1565357744693756], [0.15851876139640808], [0.16039805114269257], [0.16217902302742004], [0.16386675834655762], [0.1654660999774933], [0.16698163747787476], [0.16841775178909302], [0.16977855563163757], [0.1710679829120636], [0.17228975892066956], [0.1734473705291748], [0.17454421520233154], [0.17558343708515167], [0.17656806111335754], [0.17750093340873718]]\n"
     ]
    }
   ],
   "source": [
    "\n",
    "\n",
    "lst_output=[]\n",
    "n_steps=100\n",
    "i=0\n",
    "while(i<30):\n",
    "    \n",
    "    if(len(temp_input)>100):\n",
    "        #print(temp_input)\n",
    "        x_input=np.array(temp_input[1:])\n",
    "        print(\"{} day input {}\".format(i,x_input))\n",
    "        x_input=x_input.reshape(1,-1)\n",
    "        x_input = x_input.reshape((1, n_steps, 1))\n",
    "        #print(x_input)\n",
    "        yhat = model.predict(x_input, verbose=0)\n",
    "        print(\"{} day output {}\".format(i,yhat))\n",
    "        temp_input.extend(yhat[0].tolist())\n",
    "        temp_input=temp_input[1:]\n",
    "        #print(temp_input)\n",
    "        lst_output.extend(yhat.tolist())\n",
    "        i=i+1\n",
    "    else:\n",
    "        x_input = x_input.reshape((1, n_steps,1))\n",
    "        yhat = model.predict(x_input, verbose=0)\n",
    "        print(yhat[0])\n",
    "        temp_input.extend(yhat[0].tolist())\n",
    "        print(len(temp_input))\n",
    "        lst_output.extend(yhat.tolist())\n",
    "        i=i+1\n",
    "    \n",
    "\n",
    "print(lst_output)"
   ]
  },
  {
   "cell_type": "markdown",
   "metadata": {},
   "source": [
    "## Plotting of forecasted value"
   ]
  },
  {
   "cell_type": "code",
   "execution_count": 32,
   "metadata": {},
   "outputs": [],
   "source": [
    "day_new=np.arange(1,101)\n",
    "day_pred=np.arange(101,131)"
   ]
  },
  {
   "cell_type": "code",
   "execution_count": null,
   "metadata": {},
   "outputs": [],
   "source": []
  },
  {
   "cell_type": "code",
   "execution_count": 33,
   "metadata": {},
   "outputs": [
    {
     "data": {
      "text/plain": [
       "1258"
      ]
     },
     "execution_count": 33,
     "metadata": {},
     "output_type": "execute_result"
    }
   ],
   "source": [
    "len(df1)"
   ]
  },
  {
   "cell_type": "code",
   "execution_count": 34,
   "metadata": {},
   "outputs": [],
   "source": [
    "df3=df1.tolist()\n",
    "df3.extend(lst_output)"
   ]
  },
  {
   "cell_type": "code",
   "execution_count": 36,
   "metadata": {},
   "outputs": [
    {
     "data": {
      "text/plain": [
       "[<matplotlib.lines.Line2D at 0x2333b416400>]"
      ]
     },
     "execution_count": 36,
     "metadata": {},
     "output_type": "execute_result"
    },
    {
     "data": {
      "image/png": "[encoded data removed]",
      "text/plain": [
       "<Figure size 432x288 with 1 Axes>"
      ]
     },
     "metadata": {
      "needs_background": "light"
     },
     "output_type": "display_data"
    }
   ],
   "source": [
    "plt.plot(day_new, scaler.inverse_transform(df1[1158:]))\n",
    "plt.plot(day_pred, scaler.inverse_transform(lst_output))"
   ]
  },
  {
   "cell_type": "code",
   "execution_count": null,
   "metadata": {},
   "outputs": [],
   "source": []
  }
 ],
 "metadata": {
  "kernelspec": {
   "display_name": "Python 3",
   "language": "python",
   "name": "python3"
  },
  "language_info": {
   "codemirror_mode": {
    "name": "ipython",
    "version": 3
   },
   "file_extension": ".py",
   "mimetype": "text/x-python",
   "name": "python",
   "nbconvert_exporter": "python",
   "pygments_lexer": "ipython3",
   "version": "3.8.8"
  }
 },
 "nbformat": 4,
 "nbformat_minor": 4
}
